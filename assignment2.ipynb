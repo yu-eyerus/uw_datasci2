{
 "cells": [
  {
   "cell_type": "markdown",
   "metadata": {
    "colab_type": "text",
    "id": "y8F-5tMKTQjL"
   },
   "source": [
    "## Assignment 2"
   ]
  },
  {
   "cell_type": "markdown",
   "metadata": {
    "colab_type": "text",
    "id": "07Y_ONdkTQjR"
   },
   "source": [
    "This assignmemt is based on content discussed in module 2 and will work on a solution for the famous Monty Hall game.  Retrieved from https://en.wikipedia.org/wiki/Monty_Hall_problem\n"
   ]
  },
  {
   "cell_type": "markdown",
   "metadata": {
    "colab_type": "text",
    "id": "7hNSzgdzTQjU"
   },
   "source": [
    "## Learning outcomes"
   ]
  },
  {
   "cell_type": "markdown",
   "metadata": {
    "colab_type": "text",
    "id": "2QtRX9sRTQjX"
   },
   "source": [
    "- Program a simple simulation to solve a concrete statistical problem\n",
    "- Develop insight into the Bayesian probabilistic viewpoint\n",
    "- Recognize that statistical intuition can sometimes be wrong\n"
   ]
  },
  {
   "cell_type": "markdown",
   "metadata": {
    "colab_type": "text",
    "id": "lfLffNUWTQja"
   },
   "source": [
    "**Question**\n",
    "\n",
    "Given below is the description of the problem.  \n",
    "\n",
    "Suppose you're on a game show and you're given the choice of three doors. \n",
    "\n",
    "Behind one door is a car; behind the others, goats. The car and the goats were placed randomly behind the doors before the show.\n",
    "\n",
    "The rules are:\n",
    "\n",
    "After you have chosen a door, the door remains closed for the time being. \n",
    "The game show host, Monty Hall, who knows what is behind the doors, now has to open one of the two remaining doors, and the door he opens must have a goat behind it. If both remaining doors have goats behind them, he chooses one randomly. \n",
    "\n",
    "After Monty opens a door with a goat, he will ask you to decide whether you want to stay with your first choice or to switch to the last remaining door. \n",
    "Imagine that you chose Door 1 and the host opens Door 3, which has a goat. \n",
    "He then asks you \"Do you want to switch to Door Number 2?\" Is it to your advantage to change your choice? \n",
    "\n",
    "**NOTES:**\n",
    "1. The player may initially choose any of the three doors (not just Door 1).\n",
    "2. The host opens a different door revealing a goat (not necessarily Door 3).\n",
    "3. The host gives the player a second choice between the two remaining unopened doors. \n"
   ]
  },
  {
   "attachments": {
    "download.jpeg": {
     "image/jpeg": "[encoded data removed]"
    }
   },
   "cell_type": "markdown",
   "metadata": {
    "colab_type": "text",
    "id": "L041acdjTQjb"
   },
   "source": [
    "![download.jpeg](attachment:download.jpeg)\n",
    "\n",
    "(Source: https://en.wikipedia.org/wiki/Monty_Hall_problem#)"
   ]
  },
  {
   "cell_type": "markdown",
   "metadata": {
    "colab_type": "text",
    "id": "dAuGtwxzTQje"
   },
   "source": [
    "- Write Python code to solve the Monty Hall problem. Simulate at least a thousand games using three doors for each strategy and show the results in such a way as to make it easy to compare the effects of each strategy.\n"
   ]
  },
  {
   "cell_type": "code",
   "execution_count": 2,
   "metadata": {
    "colab": {},
    "colab_type": "code",
    "id": "GlZk3mKETQjg"
   },
   "outputs": [],
   "source": [
    "import random\n",
    "\n",
    "def run_trial(switch_doors):\n",
    "    \"\"\"\n",
    "    Run a single trial of the Monty Hall problem.\n",
    "    \"Car\" is behind door 1 and \"Goats\" are behind 2 and 3.\n",
    "    \n",
    "    Args\n",
    "    -------\n",
    "    switch_doors : bool\n",
    "        true = switch doors; false - don't switch\n",
    "        \n",
    "    Returns\n",
    "    -------\n",
    "    bool\n",
    "        True if chose car (door 1). False otherwise.\n",
    "\n",
    "    \"\"\"\n",
    "\n",
    "    # Pick a random door out of the ndoors available\n",
    "    chosen_door = random.randint(1, 3)\n",
    "    if switch_doors:\n",
    "        # Reveal a goat (either door 2 or 3)\n",
    "        if chosen_door == 2:\n",
    "            revealed_door = 3  \n",
    "        else:\n",
    "            revealed_door = 2\n",
    "        \n",
    "        # Switch doors\n",
    "        # Create list of doors that are neither the chosen nor revealed doors\n",
    "        available_doors = [x for x in range(1,4)\n",
    "                                if x not in (chosen_door, revealed_door)]\n",
    "        # Choose a door randomly\n",
    "        chosen_door = random.choice(available_doors)\n",
    "\n",
    "    # if 1 was chosen, True (win)\n",
    "    return chosen_door == 1\n",
    "\n",
    "def run_trials(num_trials, switch_doors):\n",
    "    \"\"\"\n",
    "    Run `num_trials` iterations of the Monty Hall problem.\n",
    "    \n",
    "    Args\n",
    "    ------\n",
    "    num_trials : int\n",
    "        number of iterations to run the Monty Hall problem\n",
    "    switch_doors : bool\n",
    "        true = switch doors; false - don't switch\n",
    "        \n",
    "    Returns\n",
    "    -------\n",
    "    int\n",
    "        number of trials that resulted in a win\n",
    "\n",
    "    \"\"\"\n",
    "\n",
    "    win_count = 0\n",
    "    for i in range(num_trials):\n",
    "        if run_trial(switch_doors):\n",
    "            win_count += 1\n",
    "            \n",
    "    return win_count\n"
   ]
  },
  {
   "cell_type": "markdown",
   "metadata": {},
   "source": [
    "## Run 1000 trials without switching and 1000 trials with switching"
   ]
  },
  {
   "cell_type": "code",
   "execution_count": 5,
   "metadata": {},
   "outputs": [
    {
     "name": "stdout",
     "output_type": "stream",
     "text": [
      "Proportion of wins without switching: 34.9%\n",
      "Proportion of wins with switching: 67.6%\n"
     ]
    }
   ],
   "source": [
    "num_trials = 1000\n",
    "\n",
    "# get result without switches (False)\n",
    "wins_no_switch = run_trials(num_trials, False)\n",
    "# get result with switches (True)\n",
    "wins_switch = run_trials(num_trials, True)\n",
    "\n",
    "print('Proportion of wins without switching: {:.1f}%'\n",
    "            .format(wins_no_switch/num_trials*100))\n",
    "print('Proportion of wins with switching: {:.1f}%'\n",
    "            .format(wins_switch/num_trials*100))"
   ]
  },
  {
   "cell_type": "markdown",
   "metadata": {},
   "source": [
    "Switching is the correct strategy because in the first choice, the probability is 1 out of 3, but if you switch, it's 2/3."
   ]
  }
 ],
 "metadata": {
  "colab": {
   "name": "Assignment 2.ipynb",
   "provenance": [],
   "version": "0.3.2"
  },
  "kernelspec": {
   "display_name": "Python 3",
   "language": "python",
   "name": "python3"
  },
  "language_info": {
   "codemirror_mode": {
    "name": "ipython",
    "version": 3
   },
   "file_extension": ".py",
   "mimetype": "text/x-python",
   "name": "python",
   "nbconvert_exporter": "python",
   "pygments_lexer": "ipython3",
   "version": "3.10.0"
  }
 },
 "nbformat": 4,
 "nbformat_minor": 1
}
